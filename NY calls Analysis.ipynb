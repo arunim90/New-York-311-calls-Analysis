
# coding: utf-8

# In[ ]:

<img src="http://cfs22.simplicdn.net/ice9/new_logo.svgz "/>

# Project 03: NYC 311 Service Request Analysis

You don't need to limit yourself to the number of rows/cells provided. You can add additional rows in each section to add more lines of code.

**Happy coding!**


# In[2]:

import pandas as pd
from pandas import Series, DataFrame


# In[3]:

import matplotlib.pyplot as plt
get_ipython().magic(u'matplotlib inline')
import numpy as np


# In[4]:

import seaborn as sns


# In[5]:

nyc = pd.read_csv('E:\\Python\\Projects\\Projects for submission\\311_Service_Requests_for_2009.csv', index_col =0)


# In[31]:

nyc.head()


# In[7]:

nyc.shape


# In[8]:

nyc.columns


# In[9]:

#creating a new dataframe to display complaint type and city
new_nyc = nyc[['Complaint Type','City']]


# In[10]:

new_nyc.shape


# In[11]:

new_nyc.describe()


# In[12]:

type(new_nyc)


# In[13]:

#Display the complaint type and city together
new_nyc.head(10)


# In[14]:

#displaying the top complaint types
com=nyc.dropna(subset=['Complaint Type'])
com=nyc.groupby('Complaint Type')


# In[15]:

com_type = com.size()
com_type


# In[32]:

type(com_type)


# In[16]:

new_com = com_type.to_frame('Count').reset_index()
new_com


# In[17]:

#Finding the top 10 complaint types 
top_com = com_type.sort_values(ascending=False)
top_com


# In[19]:

top_com = top_com.head(10)
top_com


# In[33]:

new_top_com = top_com.to_frame('Count').reset_index()
new_top_com


# In[27]:

#top_com.rename(columns={'Complaint Type':'Complaint'}, inplace=True)


# In[35]:

#data visualization for complaint types 
#bar graph of count vs. complaint types
plt.figure(figsize = (8,8))
new_com.plot(kind='bar',color='b',width=1,alpha=0.5)
plt.title('Types of Complaint')
plt.xlabel('Complaint Type')
plt.ylabel('Count')
plt.show()


# In[46]:

#Display the major complaint types and their count
plt.figure(figsize = (6,4))
top_com.plot(kind='bar',color='r',width=1,alpha=0.5)
plt.title('Types of Complaint')
plt.xlabel('Complaint Type')
plt.ylabel('Count')
plt.show()

